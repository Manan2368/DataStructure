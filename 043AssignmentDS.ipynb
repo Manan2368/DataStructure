{
 "cells": [
  {
   "cell_type": "code",
   "execution_count": 1,
   "id": "f0346c96-f86a-4df0-bbc6-91454152a545",
   "metadata": {},
   "outputs": [
    {
     "name": "stdin",
     "output_type": "stream",
     "text": [
      "Enter how many years:  3\n",
      "Enter year:  2023\n",
      "Enter year:  2024\n",
      "Enter year:  2025\n"
     ]
    },
    {
     "name": "stdout",
     "output_type": "stream",
     "text": [
      "\n",
      "1. Insert\n",
      "2. Retrieve\n",
      "3. Delete\n",
      "4. Exit\n"
     ]
    },
    {
     "name": "stdin",
     "output_type": "stream",
     "text": [
      "Enter choice:  1\n"
     ]
    },
    {
     "name": "stdout",
     "output_type": "stream",
     "text": [
      "Available years with indexes:\n",
      "0 : 2023\n",
      "1 : 2024\n",
      "2 : 2025\n"
     ]
    },
    {
     "name": "stdin",
     "output_type": "stream",
     "text": [
      "Enter index of year:  0\n",
      "Enter temperature:  35\n"
     ]
    },
    {
     "name": "stdout",
     "output_type": "stream",
     "text": [
      "Inserted successfully.\n",
      "\n",
      "1. Insert\n",
      "2. Retrieve\n",
      "3. Delete\n",
      "4. Exit\n"
     ]
    },
    {
     "name": "stdin",
     "output_type": "stream",
     "text": [
      "Enter choice:  1\n"
     ]
    },
    {
     "name": "stdout",
     "output_type": "stream",
     "text": [
      "Available years with indexes:\n",
      "0 : 2023\n",
      "1 : 2024\n",
      "2 : 2025\n"
     ]
    },
    {
     "name": "stdin",
     "output_type": "stream",
     "text": [
      "Enter index of year:  1\n",
      "Enter temperature:  40\n"
     ]
    },
    {
     "name": "stdout",
     "output_type": "stream",
     "text": [
      "Inserted successfully.\n",
      "\n",
      "1. Insert\n",
      "2. Retrieve\n",
      "3. Delete\n",
      "4. Exit\n"
     ]
    },
    {
     "name": "stdin",
     "output_type": "stream",
     "text": [
      "Enter choice:  1\n"
     ]
    },
    {
     "name": "stdout",
     "output_type": "stream",
     "text": [
      "Available years with indexes:\n",
      "0 : 2023\n",
      "1 : 2024\n",
      "2 : 2025\n"
     ]
    },
    {
     "name": "stdin",
     "output_type": "stream",
     "text": [
      "Enter index of year:  2\n",
      "Enter temperature:  45\n"
     ]
    },
    {
     "name": "stdout",
     "output_type": "stream",
     "text": [
      "Inserted successfully.\n",
      "\n",
      "1. Insert\n",
      "2. Retrieve\n",
      "3. Delete\n",
      "4. Exit\n"
     ]
    },
    {
     "name": "stdin",
     "output_type": "stream",
     "text": [
      "Enter choice:  2\n"
     ]
    },
    {
     "name": "stdout",
     "output_type": "stream",
     "text": [
      "Available years with indexes:\n",
      "0 : 2023\n",
      "1 : 2024\n",
      "2 : 2025\n"
     ]
    },
    {
     "name": "stdin",
     "output_type": "stream",
     "text": [
      "Enter index of year:  1\n"
     ]
    },
    {
     "name": "stdout",
     "output_type": "stream",
     "text": [
      "Temperature for 2024 : 40.0\n",
      "\n",
      "1. Insert\n",
      "2. Retrieve\n",
      "3. Delete\n",
      "4. Exit\n"
     ]
    },
    {
     "name": "stdin",
     "output_type": "stream",
     "text": [
      "Enter choice:  3\n"
     ]
    },
    {
     "name": "stdout",
     "output_type": "stream",
     "text": [
      "Available years with indexes:\n",
      "0 : 2023\n",
      "1 : 2024\n",
      "2 : 2025\n"
     ]
    },
    {
     "name": "stdin",
     "output_type": "stream",
     "text": [
      "Enter index of year:  2\n"
     ]
    },
    {
     "name": "stdout",
     "output_type": "stream",
     "text": [
      "Deleted successfully.\n",
      "\n",
      "1. Insert\n",
      "2. Retrieve\n",
      "3. Delete\n",
      "4. Exit\n"
     ]
    },
    {
     "name": "stdin",
     "output_type": "stream",
     "text": [
      "Enter choice:  2\n"
     ]
    },
    {
     "name": "stdout",
     "output_type": "stream",
     "text": [
      "Available years with indexes:\n",
      "0 : 2023\n",
      "1 : 2024\n",
      "2 : 2025\n"
     ]
    },
    {
     "name": "stdin",
     "output_type": "stream",
     "text": [
      "Enter index of year:  2\n"
     ]
    },
    {
     "name": "stdout",
     "output_type": "stream",
     "text": [
      "No temperature stored.\n",
      "\n",
      "1. Insert\n",
      "2. Retrieve\n",
      "3. Delete\n",
      "4. Exit\n"
     ]
    },
    {
     "name": "stdin",
     "output_type": "stream",
     "text": [
      "Enter choice:  4\n"
     ]
    },
    {
     "name": "stdout",
     "output_type": "stream",
     "text": [
      "Exiting...\n"
     ]
    }
   ],
   "source": [
    "n = int(input(\"Enter how many years: \"))\n",
    "years = []\n",
    "for i in range(n):\n",
    "    y = int(input(\"Enter year: \"))\n",
    "    years.append(y)\n",
    "temperatures = [None] * n\n",
    "while True:\n",
    "    print(\"\\n1. Insert\")\n",
    "    print(\"2. Retrieve\")\n",
    "    print(\"3. Delete\")\n",
    "    print(\"4. Exit\")\n",
    "    choice = input(\"Enter choice: \")\n",
    "\n",
    "    if choice == \"1\":\n",
    "        print(\"Available years with indexes:\")\n",
    "        for i in range(len(years)):\n",
    "            print(i, \":\", years[i])\n",
    "\n",
    "        idx = int(input(\"Enter index of year: \"))\n",
    "        if 0 <= idx < len(years):\n",
    "            t = float(input(\"Enter temperature: \"))\n",
    "            temperatures[idx] = t\n",
    "            print(\"Inserted successfully.\")\n",
    "        else:\n",
    "            print(\"Invalid index.\")\n",
    "\n",
    "    elif choice == \"2\":\n",
    "        print(\"Available years with indexes:\")\n",
    "        for i in range(len(years)):\n",
    "            print(i, \":\", years[i])\n",
    "\n",
    "        idx = int(input(\"Enter index of year: \"))\n",
    "        if 0 <= idx < len(years):\n",
    "            if temperatures[idx] is not None:\n",
    "                print(\"Temperature for\", years[idx], \":\", temperatures[idx])\n",
    "            else:\n",
    "                print(\"No temperature stored.\")\n",
    "        else:\n",
    "            print(\"Invalid index.\")\n",
    "\n",
    "    elif choice == \"3\":\n",
    "        print(\"Available years with indexes:\")\n",
    "        for i in range(len(years)):\n",
    "            print(i, \":\", years[i])\n",
    "\n",
    "        idx = int(input(\"Enter index of year: \"))\n",
    "        if 0 <= idx < len(years):\n",
    "            if temperatures[idx] is not None:\n",
    "                temperatures[idx] = None\n",
    "                print(\"Deleted successfully.\")\n",
    "            else:\n",
    "                print(\"Nothing to delete.\")\n",
    "        else:\n",
    "            print(\"Invalid index.\")\n",
    "\n",
    "    elif choice == \"4\":\n",
    "        print(\"Exiting...\")\n",
    "        break\n",
    "\n",
    "    else:\n",
    "        print(\"Invalid choice.\")"
   ]
  },
  {
   "cell_type": "code",
   "execution_count": null,
   "id": "7d251d2d-26d7-4286-b381-a3faf26848ef",
   "metadata": {},
   "outputs": [],
   "source": []
  }
 ],
 "metadata": {
  "kernelspec": {
   "display_name": "Python 3 (ipykernel)",
   "language": "python",
   "name": "python3"
  },
  "language_info": {
   "codemirror_mode": {
    "name": "ipython",
    "version": 3
   },
   "file_extension": ".py",
   "mimetype": "text/x-python",
   "name": "python",
   "nbconvert_exporter": "python",
   "pygments_lexer": "ipython3",
   "version": "3.12.7"
  }
 },
 "nbformat": 4,
 "nbformat_minor": 5
}
