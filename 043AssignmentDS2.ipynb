{
 "cells": [
  {
   "cell_type": "code",
   "execution_count": 1,
   "id": "326ee2e7-01f2-48f9-8d6e-60b39d3547c3",
   "metadata": {},
   "outputs": [
    {
     "name": "stdout",
     "output_type": "stream",
     "text": [
      "WELCOME TO LIBRARY MANAGEMENT SYSTEM\n",
      "1. Insert Book\n",
      "2. Delete Book\n",
      "3. Search Book\n",
      "4. Display Books\n",
      "5. Issue Book\n",
      "6. Return Book\n",
      "7. Undo Last Transaction\n",
      "8. View All Transactions\n",
      "9. Exit\n"
     ]
    },
    {
     "name": "stdin",
     "output_type": "stream",
     "text": [
      "Enter your choice (1-9):  1\n",
      "Enter Book ID:  001\n",
      "Enter Book Title:  One Piece\n",
      "Enter Author Name:  Echiro Oda\n"
     ]
    },
    {
     "name": "stdout",
     "output_type": "stream",
     "text": [
      "Book 'One Piece' added successfully!\n",
      "WELCOME TO LIBRARY MANAGEMENT SYSTEM\n",
      "1. Insert Book\n",
      "2. Delete Book\n",
      "3. Search Book\n",
      "4. Display Books\n",
      "5. Issue Book\n",
      "6. Return Book\n",
      "7. Undo Last Transaction\n",
      "8. View All Transactions\n",
      "9. Exit\n"
     ]
    },
    {
     "name": "stdin",
     "output_type": "stream",
     "text": [
      "Enter your choice (1-9):  1\n",
      "Enter Book ID:  002\n",
      "Enter Book Title:  Jujutsu Kaisen\n",
      "Enter Author Name:  Gege\n"
     ]
    },
    {
     "name": "stdout",
     "output_type": "stream",
     "text": [
      "Book 'Jujutsu Kaisen' added successfully!\n",
      "WELCOME TO LIBRARY MANAGEMENT SYSTEM\n",
      "1. Insert Book\n",
      "2. Delete Book\n",
      "3. Search Book\n",
      "4. Display Books\n",
      "5. Issue Book\n",
      "6. Return Book\n",
      "7. Undo Last Transaction\n",
      "8. View All Transactions\n",
      "9. Exit\n"
     ]
    },
    {
     "name": "stdin",
     "output_type": "stream",
     "text": [
      "Enter your choice (1-9):  1\n",
      "Enter Book ID:  003\n",
      "Enter Book Title:  Mathematics\n",
      "Enter Author Name:  RD Sharma\n"
     ]
    },
    {
     "name": "stdout",
     "output_type": "stream",
     "text": [
      "Book 'Mathematics' added successfully!\n",
      "WELCOME TO LIBRARY MANAGEMENT SYSTEM\n",
      "1. Insert Book\n",
      "2. Delete Book\n",
      "3. Search Book\n",
      "4. Display Books\n",
      "5. Issue Book\n",
      "6. Return Book\n",
      "7. Undo Last Transaction\n",
      "8. View All Transactions\n",
      "9. Exit\n"
     ]
    },
    {
     "name": "stdin",
     "output_type": "stream",
     "text": [
      "Enter your choice (1-9):  1\n",
      "Enter Book ID:  004\n",
      "Enter Book Title:  Goosebumps\n",
      "Enter Author Name:  R.L Stine\n"
     ]
    },
    {
     "name": "stdout",
     "output_type": "stream",
     "text": [
      "Book 'Goosebumps' added successfully!\n",
      "WELCOME TO LIBRARY MANAGEMENT SYSTEM\n",
      "1. Insert Book\n",
      "2. Delete Book\n",
      "3. Search Book\n",
      "4. Display Books\n",
      "5. Issue Book\n",
      "6. Return Book\n",
      "7. Undo Last Transaction\n",
      "8. View All Transactions\n",
      "9. Exit\n"
     ]
    },
    {
     "name": "stdin",
     "output_type": "stream",
     "text": [
      "Enter your choice (1-9):  2\n",
      "Enter Book ID to delete:  003\n"
     ]
    },
    {
     "name": "stdout",
     "output_type": "stream",
     "text": [
      "Book ID 3 deleted successfully!\n",
      "WELCOME TO LIBRARY MANAGEMENT SYSTEM\n",
      "1. Insert Book\n",
      "2. Delete Book\n",
      "3. Search Book\n",
      "4. Display Books\n",
      "5. Issue Book\n",
      "6. Return Book\n",
      "7. Undo Last Transaction\n",
      "8. View All Transactions\n",
      "9. Exit\n"
     ]
    },
    {
     "name": "stdin",
     "output_type": "stream",
     "text": [
      "Enter your choice (1-9):  3\n",
      "Enter Book ID to search:  002\n"
     ]
    },
    {
     "name": "stdout",
     "output_type": "stream",
     "text": [
      "Book Found:\n",
      "Book ID: 2\n",
      "Title: Jujutsu Kaisen\n",
      "Author: Gege\n",
      "Status: Available\n",
      "WELCOME TO LIBRARY MANAGEMENT SYSTEM\n",
      "1. Insert Book\n",
      "2. Delete Book\n",
      "3. Search Book\n",
      "4. Display Books\n",
      "5. Issue Book\n",
      "6. Return Book\n",
      "7. Undo Last Transaction\n",
      "8. View All Transactions\n",
      "9. Exit\n"
     ]
    },
    {
     "name": "stdin",
     "output_type": "stream",
     "text": [
      "Enter your choice (1-9):  4\n"
     ]
    },
    {
     "name": "stdout",
     "output_type": "stream",
     "text": [
      "Current Library Books:\n",
      "ID: 1 | Title: One Piece | Author: Echiro Oda | Status: Available\n",
      "ID: 2 | Title: Jujutsu Kaisen | Author: Gege | Status: Available\n",
      "ID: 4 | Title: Goosebumps | Author: R.L Stine | Status: Available\n",
      "WELCOME TO LIBRARY MANAGEMENT SYSTEM\n",
      "1. Insert Book\n",
      "2. Delete Book\n",
      "3. Search Book\n",
      "4. Display Books\n",
      "5. Issue Book\n",
      "6. Return Book\n",
      "7. Undo Last Transaction\n",
      "8. View All Transactions\n",
      "9. Exit\n"
     ]
    },
    {
     "name": "stdin",
     "output_type": "stream",
     "text": [
      "Enter your choice (1-9):  5\n",
      "Enter Book ID to issue:  001\n"
     ]
    },
    {
     "name": "stdout",
     "output_type": "stream",
     "text": [
      "Book Found:\n",
      "Book ID: 1\n",
      "Title: One Piece\n",
      "Author: Echiro Oda\n",
      "Status: Available\n",
      "Book ID 1 issued successfully!\n",
      "WELCOME TO LIBRARY MANAGEMENT SYSTEM\n",
      "1. Insert Book\n",
      "2. Delete Book\n",
      "3. Search Book\n",
      "4. Display Books\n",
      "5. Issue Book\n",
      "6. Return Book\n",
      "7. Undo Last Transaction\n",
      "8. View All Transactions\n",
      "9. Exit\n"
     ]
    },
    {
     "name": "stdin",
     "output_type": "stream",
     "text": [
      "Enter your choice (1-9):  5\n",
      "Enter Book ID to issue:  001\n"
     ]
    },
    {
     "name": "stdout",
     "output_type": "stream",
     "text": [
      "Book Found:\n",
      "Book ID: 1\n",
      "Title: One Piece\n",
      "Author: Echiro Oda\n",
      "Status: Issued\n",
      "Book already issued.\n",
      "WELCOME TO LIBRARY MANAGEMENT SYSTEM\n",
      "1. Insert Book\n",
      "2. Delete Book\n",
      "3. Search Book\n",
      "4. Display Books\n",
      "5. Issue Book\n",
      "6. Return Book\n",
      "7. Undo Last Transaction\n",
      "8. View All Transactions\n",
      "9. Exit\n"
     ]
    },
    {
     "name": "stdin",
     "output_type": "stream",
     "text": [
      "Enter your choice (1-9):  6\n",
      "Enter Book ID to return:  001\n"
     ]
    },
    {
     "name": "stdout",
     "output_type": "stream",
     "text": [
      "Book Found:\n",
      "Book ID: 1\n",
      "Title: One Piece\n",
      "Author: Echiro Oda\n",
      "Status: Issued\n",
      "Book ID 1 returned successfully!\n",
      "WELCOME TO LIBRARY MANAGEMENT SYSTEM\n",
      "1. Insert Book\n",
      "2. Delete Book\n",
      "3. Search Book\n",
      "4. Display Books\n",
      "5. Issue Book\n",
      "6. Return Book\n",
      "7. Undo Last Transaction\n",
      "8. View All Transactions\n",
      "9. Exit\n"
     ]
    },
    {
     "name": "stdin",
     "output_type": "stream",
     "text": [
      "Enter your choice (1-9):  6\n",
      "Enter Book ID to return:  001\n"
     ]
    },
    {
     "name": "stdout",
     "output_type": "stream",
     "text": [
      "Book Found:\n",
      "Book ID: 1\n",
      "Title: One Piece\n",
      "Author: Echiro Oda\n",
      "Status: Available\n",
      "Book was not issued.\n",
      "WELCOME TO LIBRARY MANAGEMENT SYSTEM\n",
      "1. Insert Book\n",
      "2. Delete Book\n",
      "3. Search Book\n",
      "4. Display Books\n",
      "5. Issue Book\n",
      "6. Return Book\n",
      "7. Undo Last Transaction\n",
      "8. View All Transactions\n",
      "9. Exit\n"
     ]
    },
    {
     "name": "stdin",
     "output_type": "stream",
     "text": [
      "Enter your choice (1-9):  7\n"
     ]
    },
    {
     "name": "stdout",
     "output_type": "stream",
     "text": [
      "Book Found:\n",
      "Book ID: 1\n",
      "Title: One Piece\n",
      "Author: Echiro Oda\n",
      "Status: Available\n",
      "Undo successful: Return of Book ID 1 reverted.\n",
      "WELCOME TO LIBRARY MANAGEMENT SYSTEM\n",
      "1. Insert Book\n",
      "2. Delete Book\n",
      "3. Search Book\n",
      "4. Display Books\n",
      "5. Issue Book\n",
      "6. Return Book\n",
      "7. Undo Last Transaction\n",
      "8. View All Transactions\n",
      "9. Exit\n"
     ]
    },
    {
     "name": "stdin",
     "output_type": "stream",
     "text": [
      "Enter your choice (1-9):  8\n"
     ]
    },
    {
     "name": "stdout",
     "output_type": "stream",
     "text": [
      "Recent Transactions:\n",
      "('Issue', 1)\n",
      "WELCOME TO LIBRARY MANAGEMENT SYSTEM\n",
      "1. Insert Book\n",
      "2. Delete Book\n",
      "3. Search Book\n",
      "4. Display Books\n",
      "5. Issue Book\n",
      "6. Return Book\n",
      "7. Undo Last Transaction\n",
      "8. View All Transactions\n",
      "9. Exit\n"
     ]
    },
    {
     "name": "stdin",
     "output_type": "stream",
     "text": [
      "Enter your choice (1-9):  9\n"
     ]
    },
    {
     "name": "stdout",
     "output_type": "stream",
     "text": [
      "Exiting... Thank you!\n"
     ]
    }
   ],
   "source": [
    "def insertBook(head, book_id, title, author):\n",
    "    new_book = {\n",
    "        \"book_id\": book_id,\n",
    "        \"title\": title,\n",
    "        \"author\": author,\n",
    "        \"status\": \"Available\",\n",
    "        \"next\": None\n",
    "    }\n",
    "\n",
    "    if head is None:\n",
    "        head = new_book\n",
    "    else:\n",
    "        temp = head\n",
    "        while temp[\"next\"] is not None:\n",
    "            temp = temp[\"next\"]\n",
    "        temp[\"next\"] = new_book\n",
    "\n",
    "    print(f\"Book '{title}' added successfully!\")\n",
    "    return head\n",
    "\n",
    "\n",
    "def deleteBook(head, book_id):\n",
    "    if head is None:\n",
    "        print(\"No books in the library.\")\n",
    "        return head\n",
    "\n",
    "    temp = head\n",
    "    prev = None\n",
    "\n",
    "    while temp is not None and temp[\"book_id\"] != book_id:\n",
    "        prev = temp\n",
    "        temp = temp[\"next\"]\n",
    "\n",
    "    if temp is None:\n",
    "        print(\"Book not found.\")\n",
    "        return head\n",
    "\n",
    "    if prev is None:\n",
    "        head = temp[\"next\"]\n",
    "    else:\n",
    "        prev[\"next\"] = temp[\"next\"]\n",
    "\n",
    "    print(f\"Book ID {book_id} deleted successfully!\")\n",
    "    return head\n",
    "\n",
    "\n",
    "def searchBook(head, book_id):\n",
    "    temp = head\n",
    "    while temp is not None:\n",
    "        if temp[\"book_id\"] == book_id:\n",
    "            print(\"Book Found:\")\n",
    "            print(f\"Book ID: {temp['book_id']}\")\n",
    "            print(f\"Title: {temp['title']}\")\n",
    "            print(f\"Author: {temp['author']}\")\n",
    "            print(f\"Status: {temp['status']}\")\n",
    "            return temp\n",
    "        temp = temp[\"next\"]\n",
    "\n",
    "    print(\"Book not found.\")\n",
    "    return None\n",
    "\n",
    "\n",
    "def displayBooks(head):\n",
    "    if head is None:\n",
    "        print(\"No books available.\")\n",
    "        return\n",
    "\n",
    "    print(\"Current Library Books:\")\n",
    "    temp = head\n",
    "    while temp is not None:\n",
    "        print(f\"ID: {temp['book_id']} | Title: {temp['title']} | Author: {temp['author']} | Status: {temp['status']}\")\n",
    "        temp = temp[\"next\"]\n",
    "\n",
    "\n",
    "def pushTransaction(transaction_stack, action, book_id):\n",
    "    transaction_stack.append((action, book_id))\n",
    "    return transaction_stack\n",
    "\n",
    "\n",
    "def popTransaction(transaction_stack):\n",
    "    if len(transaction_stack) == 0:\n",
    "        print(\"No transactions to undo.\")\n",
    "        return transaction_stack, None\n",
    "    last = transaction_stack.pop()\n",
    "    return transaction_stack, last\n",
    "\n",
    "\n",
    "def displayTransactions(transaction_stack):\n",
    "    if len(transaction_stack) == 0:\n",
    "        print(\"No transactions yet.\")\n",
    "    else:\n",
    "        print(\"Recent Transactions:\")\n",
    "        for t in reversed(transaction_stack):\n",
    "            print(t)\n",
    "\n",
    "\n",
    "def issueBook(head, transaction_stack, book_id):\n",
    "    book = searchBook(head, book_id)\n",
    "    if book is not None:\n",
    "        if book[\"status\"] == \"Available\":\n",
    "            book[\"status\"] = \"Issued\"\n",
    "            transaction_stack = pushTransaction(transaction_stack, \"Issue\", book_id)\n",
    "            print(f\"Book ID {book_id} issued successfully!\")\n",
    "        else:\n",
    "            print(\"Book already issued.\")\n",
    "    return head, transaction_stack\n",
    "\n",
    "\n",
    "def returnBook(head, transaction_stack, book_id):\n",
    "    book = searchBook(head, book_id)\n",
    "    if book is not None:\n",
    "        if book[\"status\"] == \"Issued\":\n",
    "            book[\"status\"] = \"Available\"\n",
    "            transaction_stack = pushTransaction(transaction_stack, \"Return\", book_id)\n",
    "            print(f\"Book ID {book_id} returned successfully!\")\n",
    "        else:\n",
    "            print(\"Book was not issued.\")\n",
    "    return head, transaction_stack\n",
    "\n",
    "\n",
    "def undoTransaction(head, transaction_stack):\n",
    "    transaction_stack, last = popTransaction(transaction_stack)\n",
    "    if last is not None:\n",
    "        action, book_id = last\n",
    "        book = searchBook(head, book_id)\n",
    "        if book is not None:\n",
    "            if action == \"Issue\":\n",
    "                book[\"status\"] = \"Available\"\n",
    "                print(f\"Undo successful: Issue of Book ID {book_id} reverted.\")\n",
    "            elif action == \"Return\":\n",
    "                book[\"status\"] = \"Issued\"\n",
    "                print(f\"Undo successful: Return of Book ID {book_id} reverted.\")\n",
    "    return head, transaction_stack\n",
    "\n",
    "\n",
    "def main():\n",
    "    head = None\n",
    "    transaction_stack = []\n",
    "\n",
    "    while True:\n",
    "        print(\"WELCOME TO LIBRARY MANAGEMENT SYSTEM\")\n",
    "        print(\"1. Insert Book\")\n",
    "        print(\"2. Delete Book\")\n",
    "        print(\"3. Search Book\")\n",
    "        print(\"4. Display Books\")\n",
    "        print(\"5. Issue Book\")\n",
    "        print(\"6. Return Book\")\n",
    "        print(\"7. Undo Last Transaction\")\n",
    "        print(\"8. View All Transactions\")\n",
    "        print(\"9. Exit\")\n",
    "\n",
    "        choice = input(\"Enter your choice (1-9): \")\n",
    "\n",
    "        if choice == \"1\":\n",
    "            book_id = int(input(\"Enter Book ID: \"))\n",
    "            title = input(\"Enter Book Title: \")\n",
    "            author = input(\"Enter Author Name: \")\n",
    "            head = insertBook(head, book_id, title, author)\n",
    "\n",
    "        elif choice == \"2\":\n",
    "            book_id = int(input(\"Enter Book ID to delete: \"))\n",
    "            head = deleteBook(head, book_id)\n",
    "\n",
    "        elif choice == \"3\":\n",
    "            book_id = int(input(\"Enter Book ID to search: \"))\n",
    "            searchBook(head, book_id)\n",
    "\n",
    "        elif choice == \"4\":\n",
    "            displayBooks(head)\n",
    "\n",
    "        elif choice == \"5\":\n",
    "            book_id = int(input(\"Enter Book ID to issue: \"))\n",
    "            head, transaction_stack = issueBook(head, transaction_stack, book_id)\n",
    "\n",
    "        elif choice == \"6\":\n",
    "            book_id = int(input(\"Enter Book ID to return: \"))\n",
    "            head, transaction_stack = returnBook(head, transaction_stack, book_id)\n",
    "\n",
    "        elif choice == \"7\":\n",
    "            head, transaction_stack = undoTransaction(head, transaction_stack)\n",
    "\n",
    "        elif choice == \"8\":\n",
    "            displayTransactions(transaction_stack)\n",
    "\n",
    "        elif choice == \"9\":\n",
    "            print(\"Exiting... Thank you!\")\n",
    "            break\n",
    "\n",
    "        else:\n",
    "            print(\"Invalid choice, please try again.\")\n",
    "\n",
    "main()"
   ]
  },
  {
   "cell_type": "code",
   "execution_count": null,
   "id": "28114480-1b3c-4994-95d9-bd832791a782",
   "metadata": {},
   "outputs": [],
   "source": []
  }
 ],
 "metadata": {
  "kernelspec": {
   "display_name": "Python 3 (ipykernel)",
   "language": "python",
   "name": "python3"
  },
  "language_info": {
   "codemirror_mode": {
    "name": "ipython",
    "version": 3
   },
   "file_extension": ".py",
   "mimetype": "text/x-python",
   "name": "python",
   "nbconvert_exporter": "python",
   "pygments_lexer": "ipython3",
   "version": "3.12.7"
  }
 },
 "nbformat": 4,
 "nbformat_minor": 5
}
